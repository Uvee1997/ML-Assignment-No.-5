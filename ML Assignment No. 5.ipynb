{
 "cells": [
  {
   "cell_type": "markdown",
   "id": "a3ec9285",
   "metadata": {},
   "source": [
    "1) What are the key tasks that machine learning entails? What does data pre-processing imply?\n",
    "\n",
    ":- The type prediction or inference being made, based on problems or question that is being asked, & the available data.\n",
    "   Data pre-processing is the process of transforming raw data into an understandable format.It is also an important step      in data mining as we cannot work with raw data. "
   ]
  },
  {
   "cell_type": "markdown",
   "id": "dbfbfbeb",
   "metadata": {},
   "source": [
    "2) Describe quantitative and qualitative data in depth. Make a distinction between the two.\n",
    "\n",
    ":- i)Quantitative Data = It is type of data that can be measured or counted in numerical values. There are two types of          quantitative data, i.e. continous data & discrete data. Height in feet, weight in pound, age in year.This type of data      is frequently used in math calculations, algorithms, or statistical analysis. In the context of shopping, quantitative      data could be how many customers bought a certain item. When it comes to vehicles, quantitative data might be how much      horsepower a car has.  \n",
    "\n",
    "   ii)Qualitative data = The information cannot be counted, measured or easily expressed using numbers.It is collected from       text, audio and images and shared through data visualization tools, such as word clouds, concept maps, graph               databases, timelines and infographics.Qualitative data analysis tries to answer questions about what actions people         take and what motivates them to take those actions. Collecting and working with this kind of data can be time-c             consuming, because it requires reflection on the part of the analyst. \n",
    "   \n",
    "   Difference =\n",
    "   Quantitative data relates to numbers; it can be definitively counted or measured. Qualitative data, on the other hand,      is descriptive data that’s expressed in words or visuals. So, where quantitative data is used for statistical analysis,    qualitative data is categorized according to themes. Quantitative data includes distance in miles, age in year while        qualitative data expressed by describing or labeling certain attributes. "
   ]
  },
  {
   "cell_type": "markdown",
   "id": "156e45e7",
   "metadata": {},
   "source": [
    "3) Create a basic data collection that includes some sample records. Have at least one attribute from each of the machine      learning data types.\n",
    "\n",
    ":- i) Determine What Information You Want to Collect. The first thing you need to do is choose what details you want to           collect.\n",
    "  ii) Set a Timeframe for Data Collection.\n",
    " iii) Determine Your Data Collection Method.\n",
    "  iv) Collect the Data. \n",
    "   v) Analyze the Data and Implement Your Findings.\n",
    "   \n",
    "   Customer enagement like never before, Automation at its best, The ability to change mortage market. "
   ]
  },
  {
   "cell_type": "markdown",
   "id": "9d28d538",
   "metadata": {},
   "source": [
    "4) What are the various causes of machine learning data issues? What are the ramifications?\n",
    "\n",
    ":- Poor quality of data\n",
    "   Inadequate training data\n",
    "   Non-representative training data\n",
    "   Overfitting & underfitting\n",
    "   Monitoring & maintenance\n",
    "   Getting bad recommndation\n",
    "   Lack of skilled resources\n",
    "   Customer segmentation\n",
    "   \n",
    "   Ramification problem is concerned with the indirect consequences of an action. "
   ]
  },
  {
   "cell_type": "markdown",
   "id": "580a0492",
   "metadata": {},
   "source": [
    "5) Demonstrate various approaches to categorical data exploration with appropriate examples.\n",
    "\n",
    ":- In categorical data exploration there are many approaches are present, but according to exam we are dicussing following    approach. To understand this we select strom data from nasaweather package.\n",
    "   \n",
    "   i) Understanding the categorical variables -\n",
    "      Exploring categorical variables is generally simpler than working with numeric variables because we have fewer             options, or at least life is simpler if we only require basic summaries. We’ll work with the year and type variables       in storms to illustrate the key ideas. Which kind of categorical variable is type? There are four storm categories in       type. We can use the unique function to print these for us:\n",
    "      \n",
    "      unique(strome$type)\n",
    "       [1] \"Tropical Depression\" \"Tropical Storm\"      \"Hurricane\"          \n",
    "       [4] \"Extratropical\"\n",
    "      \n",
    "      This illustrates an important idea: the classification of a variable will often depend on the objectives of an             analysis. The classification of a variable matters because it influences how we choose to summarise it, how we             interpret its relationship with other variables, and whether a specific statistical model is appropriate for our data       or not. Fortunately, our choice of classification is less important when we are just trying to summarise the variable       numerically or graphically. For now, let’s assume that it’s fine to treat year as a categorical variable.\n",
    "      \n",
    "   ii) Numerical summaries -\n",
    "       When we calculate summaries of categorical variables we are aiming to describe the sample distribution of the              variable, just as with numeric variables. We need to understand which categories are common and which are rare.            Since a categorical variable takes a finite number of possible values, the simplest thing to do is tabulate the            number of occurances of each type. "
   ]
  },
  {
   "cell_type": "markdown",
   "id": "88491513",
   "metadata": {},
   "source": [
    "7) Describe the various methods for dealing with missing data values in depth.\n",
    "\n",
    ":- Missing at Random (MAR)-\n",
    "\n",
    "   Missing at Random means the data is missing relative to the observed data. It is not related to the specific missing        values. The data is not missing across all observations but only within sub-samples of the data. It is not known if the    data should be there; instead, it is missing given the observed data. The missing data can be predicted based on the        complete observed data\n",
    "\n",
    "   Missing Completely at Random (MCAR)-\n",
    "   \n",
    "   In the MCAR situation, the data is missing across all observations regardless of the expected value or other variables.    Data scientists can compare two sets of data, one with missing observations and one without. Using a t-test, if there is    no difference between the two data sets, the data is characterized as MCAR.\n",
    "   \n",
    "   Missing Not at Random (MNAR)-\n",
    "   \n",
    "   The MNAR category applies when the missing data has a structure to it. In other words, there appear to be reasons the      data is missing. In a survey, perhaps a specific group of people – say women ages 45 to 55 – did not answer a question.    Like MAR, the data cannot be determined by the observed data, because the missing information is unknown.\n",
    "   \n",
    "   For deleting the missing values\n",
    "   \n",
    "   Listwise-\n",
    "   In this method, all data for an observation that has one or more missing values are deleted. The analysis is run only on    observations that have a complete set of data. If the data set is small, it may be the most efficient method to            eliminate those cases from the analysis. However, in most cases, the data are not missing completely at random (MCAR).      Deleting the instances with missing observations can result in biased parameters and estimates and reduce the              statistical power of the analysis. \n",
    "   \n",
    "   Pairwise-\n",
    "   Pairwise deletion assumes data are missing completely at random (MCAR), but all the cases with data, even those with        missing data,  are used in the analysis. Pairwise deletion allows data scientists to use more of the data.\n",
    "   \n",
    "   Dropping Variables-\n",
    "   If data is missing for more than 60% of the observations, it may be wise to discard it if the variable is insignificant.\n",
    "   \n",
    "   Imputation - When the data is missing it make sense to delete the data."
   ]
  },
  {
   "cell_type": "markdown",
   "id": "11c5cefe",
   "metadata": {},
   "source": [
    "8) What are the various data pre-processing techniques? Explain dimensionality reduction and function selection in a few      words.\n",
    "\n",
    ":- Data Cleaning/Cleansing. Cleaning “dirty” data. \n",
    "   Data Integration. Combining data from multiple sources.\n",
    "   Data Transformation. Constructing data cube.\n",
    "   Data Reduction. Reducing representation of data set.\n",
    "   \n",
    "   Dimensionality reduction transforms features into a lower dimension. the method of reducing the input variable to your      model by using only relevant data and getting rid of noise in data."
   ]
  },
  {
   "cell_type": "markdown",
   "id": "4a41f2f5",
   "metadata": {},
   "source": [
    "9) What is the IQR? What criteria are used to assess it?\n",
    "\n",
    ":- IQR - Inter quartile range is calculated in much the same way as the range. Subtract first quartile from third quartile\n",
    "         IQR = Q3 - Q1\n",
    "         The interquartile range shows how the data is spread about the median. Use the IQR to assess the variability where          most of your values lie.\n",
    "            "
   ]
  }
 ],
 "metadata": {
  "kernelspec": {
   "display_name": "Python 3 (ipykernel)",
   "language": "python",
   "name": "python3"
  },
  "language_info": {
   "codemirror_mode": {
    "name": "ipython",
    "version": 3
   },
   "file_extension": ".py",
   "mimetype": "text/x-python",
   "name": "python",
   "nbconvert_exporter": "python",
   "pygments_lexer": "ipython3",
   "version": "3.9.7"
  }
 },
 "nbformat": 4,
 "nbformat_minor": 5
}
